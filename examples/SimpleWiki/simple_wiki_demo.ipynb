{
 "cells": [
  {
   "cell_type": "code",
   "execution_count": 1,
   "metadata": {},
   "outputs": [],
   "source": [
    "#####################################################\n",
    "### STEP 0. Import and define any helper functions\n",
    "#####################################################"
   ]
  },
  {
   "cell_type": "code",
   "execution_count": 3,
   "metadata": {},
   "outputs": [],
   "source": [
    "from marqo import Client\n",
    "from marqo.errors import MarqoApiError\n",
    "import torch\n",
    "import json\n",
    "import pprint"
   ]
  },
  {
   "cell_type": "code",
   "execution_count": 4,
   "metadata": {},
   "outputs": [],
   "source": [
    "def read_json(filename: str) -> dict:\n",
    "    # reads a json file\n",
    "    with open(filename, 'r', encoding='utf-8') as f:\n",
    "        data = json.load(f)\n",
    "    return data\n",
    "\n",
    "def replace_title(data: dict) -> dict:\n",
    "    # removes the wikipedia from the title for better matching\n",
    "    data['title'] = data['title'].replace('- Wikipedia', '')\n",
    "    return data\n"
   ]
  },
  {
   "cell_type": "code",
   "execution_count": 5,
   "metadata": {},
   "outputs": [],
   "source": [
    "#####################################################\n",
    "### STEP 1. load the data\n",
    "#####################################################"
   ]
  },
  {
   "cell_type": "code",
   "execution_count": null,
   "metadata": {},
   "outputs": [],
   "source": [
    "# download the json formatted simplewiki from here - \n",
    "# https://www.kaggle.com/datasets/louisgeisler/simple-wiki?resource=download\n",
    "# or from \n",
    "# https://drive.google.com/file/d/1OEqXeIdqaZb6BwzKIgw8G_sDi91fBawt/view?usp=sharing\n",
    "dataset_file = \"simplewiki.json\"\n",
    "\n",
    "# get the data\n",
    "data = read_json(dataset_file)\n",
    "# clean up the title\n",
    "data = [replace_title(d) for d in data]\n",
    "print(f\"loaded data with {len(data)} entries\")"
   ]
  },
  {
   "cell_type": "code",
   "execution_count": 7,
   "metadata": {},
   "outputs": [],
   "source": [
    "#####################################################\n",
    "### STEP 2. start Marqo\n",
    "#####################################################\n"
   ]
  },
  {
   "cell_type": "code",
   "execution_count": 8,
   "metadata": {},
   "outputs": [],
   "source": [
    "# Follow the instructions here https://github.com/marqo-ai/marqo"
   ]
  },
  {
   "cell_type": "code",
   "execution_count": 9,
   "metadata": {},
   "outputs": [],
   "source": [
    "#####################################################\n",
    "### STEP 3. index some data with marqo\n",
    "#####################################################"
   ]
  },
  {
   "cell_type": "code",
   "execution_count": null,
   "metadata": {},
   "outputs": [],
   "source": [
    "# we use an index name. the index name needs to be lower case.\n",
    "index_name = 'marqo-simplewiki-demo-all'\n",
    "\n",
    "# setup the client\n",
    "client = Client()\n",
    "\n",
    "# we create the index. Note if it already exists an error will occur \n",
    "# as you cannot overwrite an existing index\n",
    "# try:\n",
    "#     client.delete_index(index_name)\n",
    "# except:\n",
    "#     pass\n",
    "\n",
    "# we create the index and can set the model we want to use\n",
    "# the onnx models are typically faster on both CPU and GPU\n",
    "# to use non-onnx just use the name 'all_datasets_v4_MiniLM-L6'\n",
    "client.create_index(index_name, model='onnx/all_datasets_v4_MiniLM-L6')\n",
    "\n",
    "device = 'cpu'\n",
    "\n",
    "# here we use parallel indexing to speed up the task\n",
    "responses = client.index(index_name).add_documents(data, device=device, processes=4, batch_size=50)\n",
    "\n",
    "# optionally take a look at the responses\n",
    "#pprint.print(responses)\n"
   ]
  },
  {
   "cell_type": "code",
   "execution_count": 11,
   "metadata": {},
   "outputs": [],
   "source": [
    "#######################################\n",
    "### STEP 4. Searching with marqo ######\n",
    "#######################################"
   ]
  },
  {
   "cell_type": "code",
   "execution_count": null,
   "metadata": {},
   "outputs": [],
   "source": [
    "# after indexing we can search using both keyword (lexical) and neural search\n",
    "# this will perform neural search across all indexed fields\n",
    "\n",
    "# lets create a query\n",
    "query = 'what is air made of?'\n",
    "\n",
    "results = client.index(index_name).search(query)\n",
    "\n",
    "# we can check the results - lets look at the top hit\n",
    "pprint.pprint(results['hits'][0])\n",
    "\n",
    "# we also get highlighting which tells us why this article was returned\n",
    "pprint.pprint(results['hits'][0]['_highlights'])\n",
    "\n",
    "# we can restrict the search to specific fields as well \n",
    "results = client.index(index_name).search(query, searchable_attributes=['content'])\n",
    "\n",
    "# we can check the results - lets look at the top hit\n",
    "pprint.pprint(results['hits'][0])\n",
    "\n",
    "# we can check the results - lets look at the top hit\n",
    "pprint.pprint(results['hits'][0])\n",
    "\n",
    "# we use lexical search instead of tensor search\n",
    "results = client.index(index_name).search(query, searchable_attributes=['content'], search_method='LEXICAL')\n",
    "\n",
    "# we can check the results - lets look at the top hit\n",
    "pprint.pprint(results['hits'][0])\n",
    "\n",
    "# we can check the results - lets look at the top hit\n",
    "pprint.pprint(results['hits'][0])\n",
    "\n",
    "\n",
    "# lets create another query\n",
    "query = 'what is a cube?'\n",
    "\n",
    "results = client.index(index_name).search(query, searchable_attributes=['content'])\n",
    "\n",
    "# we can check the results - lets look at the top hit\n",
    "pprint.pprint(results['hits'][0])\n",
    "\n",
    "# we also get highlighting which tells us why this article was returned\n",
    "pprint.pprint(results['hits'][0]['_highlights'])\n",
    "\n"
   ]
  }
 ],
 "metadata": {
  "kernelspec": {
   "display_name": "Python 3.10.2 64-bit",
   "language": "python",
   "name": "python3"
  },
  "language_info": {
   "codemirror_mode": {
    "name": "ipython",
    "version": 3
   },
   "file_extension": ".py",
   "mimetype": "text/x-python",
   "name": "python",
   "nbconvert_exporter": "python",
   "pygments_lexer": "ipython3",
   "version": "3.10.2"
  },
  "orig_nbformat": 4,
  "vscode": {
   "interpreter": {
    "hash": "f2ccb58c476f33ba3e3aee7ac07234ef6b8217ef24ad64d2a7d4fed1a57c1cd2"
   }
  }
 },
 "nbformat": 4,
 "nbformat_minor": 2
}
