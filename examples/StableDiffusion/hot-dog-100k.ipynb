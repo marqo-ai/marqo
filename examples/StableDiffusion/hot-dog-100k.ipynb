{
 "cells": [
  {
   "cell_type": "code",
   "execution_count": 1,
   "metadata": {},
   "outputs": [],
   "source": [
    "#####################################################\n",
    "### STEP 0. Import and define any helper functions\n",
    "#####################################################"
   ]
  },
  {
   "cell_type": "code",
   "execution_count": 3,
   "metadata": {},
   "outputs": [],
   "source": [
    "from marqo import Client\n",
    "from marqo.errors import MarqoApiError\n",
    "import torch\n",
    "import json\n",
    "import pprint\n",
    "import glob\n",
    "import os\n",
    "import pandas as pd\n",
    "import subprocess"
   ]
  },
  {
   "cell_type": "code",
   "execution_count": 4,
   "metadata": {},
   "outputs": [],
   "source": [
    "#####################################################\n",
    "### STEP 1. Setup some things and create the documents for indexing\n",
    "#####################################################"
   ]
  },
  {
   "cell_type": "code",
   "execution_count": 5,
   "metadata": {},
   "outputs": [],
   "source": [
    "# this should be where the images are unzipped\n",
    "# get the dataset from here https://drive.google.com/file/d/16_1MlX9GH-6v060jYA23eTJwH74fSU4L/view?usp=sharing\n",
    "images_directory = 'hot-dog-100k/'\n",
    "\n",
    "# the images are accessed via docker from here - you will be able\n",
    "# to access them at something like http://[::]:8000/ or http://localhost:8000/\n",
    "docker_path = 'http://host.docker.internal:8222/'\n",
    "\n",
    "# we start an image server for easier access from within docker\n",
    "pid = subprocess.Popen(['python3', '-m', 'http.server', '8222', '--directory', images_directory], stdout=subprocess.DEVNULL, stderr=subprocess.STDOUT)\n",
    "\n",
    "# now find all the files\n",
    "files = glob.glob(images_directory + \"/*.jpg\")\n",
    "\n",
    "# we want to map the filename only with its docker path\n",
    "files_map = {os.path.basename(f):f for f in files}\n",
    "\n",
    "# update them to use the correct path\n",
    "files_docker = [f.replace(images_directory, docker_path) for f in files]\n",
    "\n",
    "# now we create our documents for indexing - a list of python dicts with keys as field names\n",
    "documents = [{\"image_docker\":file_docker, '_id':os.path.basename(file_docker)} for file_docker,file_local in zip(files_docker, files)]\n"
   ]
  },
  {
   "cell_type": "code",
   "execution_count": 6,
   "metadata": {},
   "outputs": [],
   "source": [
    "#####################################################\n",
    "### STEP 2. Initial indexing\n",
    "#####################################################"
   ]
  },
  {
   "cell_type": "code",
   "execution_count": null,
   "metadata": {},
   "outputs": [],
   "source": [
    "# we create the index and can set the model we want to use\n",
    "\n",
    "\n",
    "# get the marqo client\n",
    "client = Client()\n",
    "\n",
    "# index name - should be lowercase\n",
    "index_name = 'hot-dogs-100k'\n",
    "\n",
    "settings = {\n",
    "        \"model\":'ViT-L/14',\n",
    "        \"treat_urls_and_pointers_as_images\": True,\n",
    "        }\n",
    "client.create_index(index_name, **settings)\n",
    "\n",
    "# here we use parallel indexing to speed up the task - a gpu is recomended (device='cuda')\n",
    "responses = client.index(index_name).add_documents(documents, device='cpu'\n",
    "                                                    , processes=4, batch_size=50)\n",
    "\n"
   ]
  },
  {
   "cell_type": "code",
   "execution_count": 8,
   "metadata": {},
   "outputs": [],
   "source": [
    "#####################################################\n",
    "### Step 3. Add some labels via zero-shot learning\n",
    "#####################################################\n"
   ]
  },
  {
   "cell_type": "code",
   "execution_count": null,
   "metadata": {},
   "outputs": [],
   "source": [
    "index_name = 'one_dog_two'\n",
    "\n",
    "# the documents here are actually serving as labels. the document (i.e. label)\n",
    "# that most closely matches is returned first and can be used as a label\n",
    "# each one gets scored and those scores can also be kept\n",
    "labels = [{\"label\":\"one hot dog\"}, {\"label\":\"two hot dogs\"},\n",
    "                {\"label\":\"a hamburger\"}, {\"label\": \"a face\"}]\n",
    "\n",
    "# get a copy of the labels only\n",
    "label_strings = [list(a.values())[0] for a in labels]\n",
    "\n",
    "# we create a new index\n",
    "settings = {\n",
    "        \"model\":'ViT-L/14',\n",
    "        \"treat_urls_and_pointers_as_images\": True,\n",
    "        }\n",
    "client.create_index(index_name, **settings)\n",
    "\n",
    "# add our labels to the index\n",
    "responses = client.index(index_name).add_documents(labels)\n",
    "\n",
    "# loop through the documents and search against the labels to get scores\n",
    "for doc in documents:\n",
    "\n",
    "    # the url for the image is what is used as the search - an image\n",
    "    # note: you will want a gpu to index the whole dataset device=\"cuda\"\n",
    "    responses = client.index(index_name).search(doc['image_docker'], device='cpu')\n",
    "\n",
    "    # now retrieve the score for each label and add it to our document\n",
    "    for lab in label_strings:\n",
    "        doc[lab.replace(' ','_')] = [r['_score'] for r in responses['hits'] if r['label'] == lab][0]\n",
    "\n",
    "documents_image_docker = [doc.pop('image_docker') for doc in documents]\n",
    "responses = client.index(\"hot-dogs-100k\").add_documents(documents, device='cpu',\n",
    "                                                            processes=3, batch_size=50)\n"
   ]
  },
  {
   "cell_type": "code",
   "execution_count": 9,
   "metadata": {},
   "outputs": [],
   "source": [
    "#####################################################\n",
    "### Step 4. Remove the black images\n",
    "#####################################################"
   ]
  },
  {
   "cell_type": "code",
   "execution_count": null,
   "metadata": {},
   "outputs": [],
   "source": [
    "query = 'a black image'\n",
    "\n",
    "results = client.index(index_name).search(query)\n",
    "\n",
    "# remove the blank images\n",
    "results = client.index(index_name).search(results['hits'][0]['image_docker'], limit=100)\n",
    "\n",
    "# we check the results - scores of very close to 1 are duplicated (this value can change depending on the task)\n",
    "documents_delete = [r['_id'] for r in results['hits'] if r['_score'] > 0.99999]\n",
    "\n",
    "client.index(index_name).delete_documents(documents_delete)"
   ]
  },
  {
   "cell_type": "code",
   "execution_count": 10,
   "metadata": {},
   "outputs": [],
   "source": [
    "#####################################################\n",
    "### Step 5. order the images based on their similarity with each other\n",
    "#####################################################"
   ]
  },
  {
   "cell_type": "code",
   "execution_count": null,
   "metadata": {},
   "outputs": [],
   "source": [
    "# pick one to start\n",
    "results = client.index(\"hot-dogs-100k\").search('a photo of a smiling face', \n",
    "                        searchable_attributes=['image_docker'], \n",
    "                        filter_string=\"a_face:[0.58 TO 0.99] AND a_hamburger:[0.60 TO 0.99]\", device='cuda')\n",
    "\n",
    "# find the document that matches closest with the query\n",
    "index = [ind for ind,doc in enumerate(documents) if doc['_id'] == results['hits'][0]['_id'] ][0]\n",
    "current_document = documents[index]\n",
    "# create a list to store the \"sorted\" documents\n",
    "ordered_documents = [current_document['_id']]\n",
    "\n",
    "for i in range(len(documents)):\n",
    "\n",
    "    # remove current document\n",
    "    client.index(index_name).delete_documents([current_document['_id']])\n",
    "\n",
    "    # now search with it to get next best\n",
    "    results = client.index(index_name).search(current_document['image_docker'],\n",
    "                            searchabel_attributes=['image_docker'], \n",
    "                            filter_string=\"a_face:[0.58 TO 0.99] AND a_hamburger:[0.60 TO 0.99]\",\n",
    "                            device='cuda')\n",
    "\n",
    "    next_document = results['hits'][0]\n",
    "\n",
    "    # now add it\n",
    "    ordered_documents.append(next_document['_id'])\n",
    "\n",
    "    current_document = next_document\n",
    "\n",
    "ordered_images = [files_map[f] for f in ordered_documents]\n",
    "deleted_documents = [d for d in documents if d['_id'] in ordered_documents]\n"
   ]
  },
  {
   "cell_type": "code",
   "execution_count": 11,
   "metadata": {},
   "outputs": [],
   "source": [
    "#####################################################\n",
    "### Step 6. Animate them\n",
    "#####################################################"
   ]
  },
  {
   "cell_type": "code",
   "execution_count": null,
   "metadata": {},
   "outputs": [],
   "source": [
    "import sys\n",
    "import subprocess\n",
    "from pathlib import Path\n",
    "\n",
    "def prepend_number(filename, number, new_dir):\n",
    "    _dir, _name = os.path.split(filename)\n",
    "\n",
    "    return _dir + f'/{new_dir}/' + number + '_' + _name\n",
    "\n",
    "def copyWithSubprocess(cmd):        \n",
    "    proc = subprocess.Popen(cmd, stdout=subprocess.PIPE, stderr=subprocess.PIPE)\n",
    "\n",
    "save_base_dir = 'outputs/'\n",
    "Path(save_base_dir).mkdir(parents=True, exist_ok=True)\n",
    "\n",
    "new_images = [save_base_dir + f'{str(i).zfill(5)}' + os.path.basename(f) for i,f in enumerate(ordered_images)]\n",
    "\n",
    "for image, new_image in zip(ordered_images, new_images):\n",
    "\n",
    "    cmd=['cp', image, new_image]\n",
    "\n",
    "    copyWithSubprocess(cmd)\n"
   ]
  }
 ],
 "metadata": {
  "kernelspec": {
   "display_name": "Python 3.10.2 64-bit",
   "language": "python",
   "name": "python3"
  },
  "language_info": {
   "codemirror_mode": {
    "name": "ipython",
    "version": 3
   },
   "file_extension": ".py",
   "mimetype": "text/x-python",
   "name": "python",
   "nbconvert_exporter": "python",
   "pygments_lexer": "ipython3",
   "version": "3.10.2"
  },
  "orig_nbformat": 4,
  "vscode": {
   "interpreter": {
    "hash": "f2ccb58c476f33ba3e3aee7ac07234ef6b8217ef24ad64d2a7d4fed1a57c1cd2"
   }
  }
 },
 "nbformat": 4,
 "nbformat_minor": 2
}
