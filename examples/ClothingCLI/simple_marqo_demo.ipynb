{
 "cells": [
  {
   "cell_type": "markdown",
   "metadata": {},
   "source": [
    "# importing the libraries"
   ]
  },
  {
   "cell_type": "code",
   "execution_count": 15,
   "metadata": {},
   "outputs": [],
   "source": [
    "# install marqo on cmmand-prompt via - pip install marqo\n",
    "import marqo\n",
    "import pprint\n",
    "import pandas as pd"
   ]
  },
  {
   "cell_type": "markdown",
   "metadata": {},
   "source": [
    "## Connection to Marqo Docker Container\n"
   ]
  },
  {
   "cell_type": "code",
   "execution_count": 4,
   "metadata": {},
   "outputs": [],
   "source": [
    "mq = marqo.Client(url='http://localhost:8882')"
   ]
  },
  {
   "cell_type": "markdown",
   "metadata": {},
   "source": [
    "###  Place your file path here (directory where http server is setup)"
   ]
  },
  {
   "cell_type": "code",
   "execution_count": 5,
   "metadata": {},
   "outputs": [],
   "source": [
    "dataset_path = \"http://localhost:8222/\""
   ]
  },
  {
   "cell_type": "code",
   "execution_count": 6,
   "metadata": {},
   "outputs": [],
   "source": [
    "def load_index(index_name: str, number_data: int) -> None:\n",
    "    try:\n",
    "        shirt_data = pd.read_csv('clothing-dataset/images.csv').head(number_data)[['image','label','kids']].to_dict('records')\n",
    "        \n",
    "        # dataset came from this link: https://github.com/alexeygrigorev/clothing-dataset-small\n",
    "        # the .csv file has the following headers:\n",
    "        # image, sender_id, label, kids\n",
    "        # (image name, id of the sender who sent the pictures from sender_id, what kind of clothing it is, whether or not the clothing is for kids)\n",
    "        # Dataset Example:.\n",
    "        # 4285fab0-751a-4b74-8e9b-43af05deee22,124,Not sure,False\n",
    "        # 70045b01-b350-4918-be74-2f627290ad7a,95,Skirt,False\n",
    "        \n",
    "\n",
    "        for data in shirt_data:\n",
    "            path = \"http://host.docker.internal:8222/clothing-dataset/images/\" + data['image'] + \".jpg\"\n",
    "            data['image'] = path\n",
    "            \n",
    "        settings = {\n",
    "            \"treat_urls_and_pointers_as_images\":True,   # allows us to find an image file and index it\n",
    "            \"model\":\"ViT-B/16\"\n",
    "        }\n",
    "            \n",
    "        mq.create_index(index_name, **settings)\n",
    "\n",
    "        mq.index(index_name).add_documents(shirt_data)\n",
    "\n",
    "        print(\"Index successfully created.\")\n",
    "\n",
    "    except Exception as e:\n",
    "        print(\"Index already exists.\")\n"
   ]
  },
  {
   "cell_type": "code",
   "execution_count": 7,
   "metadata": {},
   "outputs": [],
   "source": [
    "def delete_index(index_name: str):\n",
    "    try:\n",
    "        mq.index(index_name).delete()\n",
    "        print(\"Index successfully deleted.\")\n",
    "    except Exception as e:\n",
    "        print(\"Index does not exist.\")"
   ]
  },
  {
   "cell_type": "code",
   "execution_count": 8,
   "metadata": {},
   "outputs": [],
   "source": [
    "def delete_doc_from_index(index_name:str, doc_ids:list[str]):\n",
    "    results = mq.index(index_name).delete_documents(ids=doc_ids)\n",
    "    return results"
   ]
  },
  {
   "cell_type": "code",
   "execution_count": 9,
   "metadata": {},
   "outputs": [],
   "source": [
    "def search_index_text(index_name:str, query_text: str, search_method: str):\n",
    "    results = mq.index(index_name).search(\n",
    "        q=query_text,\n",
    "        search_method=search_method,\n",
    "    )\n",
    "    \n",
    "    # Marqo also has other features such as searhcing based on a specific attribute field and query fitlering\n",
    "    # refer to the documentation on how these features work (https://marqo.pages.dev/)\n",
    "    return results\n"
   ]
  },
  {
   "cell_type": "code",
   "execution_count": 10,
   "metadata": {},
   "outputs": [],
   "source": [
    "def search_index_image(index_name:str, image_name: str):\n",
    "    # make sure the image is located inside the directory in which the python http server is running\n",
    "\n",
    "    image_path = \"http://host.docker.internal:8222/\" + image_name\n",
    "\n",
    "    results = mq.index(index_name).search(image_path)\n",
    "    \n",
    "    return results"
   ]
  },
  {
   "cell_type": "code",
   "execution_count": 11,
   "metadata": {},
   "outputs": [],
   "source": [
    "def get_index_stats(index_name: str) -> dict:\n",
    "    results = mq.index(index_name).get_stats()\n",
    "    return results\n"
   ]
  },
  {
   "cell_type": "code",
   "execution_count": 12,
   "metadata": {},
   "outputs": [],
   "source": [
    "def main():\n",
    "    print(\"Welcome to Marqo Demo!\")\n",
    "    while True:\n",
    "        action = int(input('''\n",
    "What would you like to do?\n",
    "1) Create an Index\n",
    "2) Delete an Index\n",
    "3) Search from an Index\n",
    "4) Show Index Stats\n",
    "5) Delete a document from an Index\n",
    "6) Quit\n",
    "\n",
    "Action: '''))\n",
    "\n",
    "        if action == 1:\n",
    "            index_name = input(\"Index name: \")\n",
    "            no_of_items = int(input(\"No. of items in dataset: \"))\n",
    "\n",
    "            load_index(index_name, no_of_items)\n",
    "        elif action == 2:\n",
    "            index_name = input(\"Index name: \")\n",
    "            \n",
    "            delete_index(index_name)\n",
    "        elif action == 3:\n",
    "            index_name = input(\"Index name: \")\n",
    "            search_type = input(\"Search Type (Text, Image): \")\n",
    "\n",
    "            if search_type == 'Text':\n",
    "                search_mode = str(input(\"Search Mode: (Lexical, Tensor)\"))\n",
    "                query_text = str(input(\"Query Text: \"))\n",
    "\n",
    "                results = search_index_text(index_name, query_text, search_mode.upper())\n",
    "                \n",
    "                pprint.pprint(results)\n",
    "            elif search_type == 'Image':\n",
    "                image_name = str(input(\"Image name (include MIME type .jpg or .png): \"))\n",
    "\n",
    "                results = search_index_image(index_name, image_name)\n",
    "\n",
    "                pprint.pprint(results)\n",
    "            \n",
    "        elif action == 4:\n",
    "            index_name = input(\"Index name: \")\n",
    "            get_index_stats(index_name)\n",
    "\n",
    "        elif action == 5:\n",
    "            index_name = input(\"Index name: \")\n",
    "            no_of_docs = int(input(\"No. of documents to delete: \"))\n",
    "            doc_ids = []\n",
    "\n",
    "            for i in range(no_of_docs):\n",
    "                doc_id = input(\"Document ID: \")\n",
    "                doc_ids.append(doc_id)\n",
    "\n",
    "            delete_doc_from_index(index_name, doc_ids)\n",
    "\n",
    "        else:\n",
    "            print(\"Goodbye\")\n",
    "            break"
   ]
  },
  {
   "cell_type": "code",
   "execution_count": null,
   "metadata": {},
   "outputs": [],
   "source": [
    "main()"
   ]
  }
 ],
 "metadata": {
  "kernelspec": {
   "display_name": "Python 3.10.2 64-bit",
   "language": "python",
   "name": "python3"
  },
  "language_info": {
   "codemirror_mode": {
    "name": "ipython",
    "version": 3
   },
   "file_extension": ".py",
   "mimetype": "text/x-python",
   "name": "python",
   "nbconvert_exporter": "python",
   "pygments_lexer": "ipython3",
   "version": "3.10.2"
  },
  "orig_nbformat": 4,
  "vscode": {
   "interpreter": {
    "hash": "f2ccb58c476f33ba3e3aee7ac07234ef6b8217ef24ad64d2a7d4fed1a57c1cd2"
   }
  }
 },
 "nbformat": 4,
 "nbformat_minor": 2
}
